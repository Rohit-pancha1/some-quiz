{
 "cells": [
  {
   "cell_type": "code",
   "execution_count": 1,
   "id": "2085659c-9234-457c-b366-5fd32f7a0356",
   "metadata": {},
   "outputs": [],
   "source": [
    "product_prices = [100, 200, 300, 400, 500, 600, 700, 800, 900, 1000]"
   ]
  },
  {
   "cell_type": "code",
   "execution_count": 2,
   "id": "866ac17e-0ab5-4ad9-9353-8bd84f647e16",
   "metadata": {},
   "outputs": [],
   "source": [
    "discount_percentage = 10  # 10%"
   ]
  },
  {
   "cell_type": "code",
   "execution_count": 3,
   "id": "3d4611f9-7756-4178-aa88-6fd488b34cec",
   "metadata": {},
   "outputs": [],
   "source": [
    "final_prices = []\n",
    "for price in product_prices:\n",
    "    discount_amount = price * (discount_percentage / 100)\n",
    "    final_price = price - discount_amount\n",
    "    final_prices.append(final_price)"
   ]
  },
  {
   "cell_type": "code",
   "execution_count": 5,
   "id": "4e745724-1bd2-4de4-bf63-445da371e685",
   "metadata": {},
   "outputs": [
    {
     "name": "stdout",
     "output_type": "stream",
     "text": [
      "Original Price: ₹100, Discounted Price: ₹90.00\n",
      "Original Price: ₹200, Discounted Price: ₹180.00\n",
      "Original Price: ₹300, Discounted Price: ₹270.00\n",
      "Original Price: ₹400, Discounted Price: ₹360.00\n",
      "Original Price: ₹500, Discounted Price: ₹450.00\n",
      "Original Price: ₹600, Discounted Price: ₹540.00\n",
      "Original Price: ₹700, Discounted Price: ₹630.00\n",
      "Original Price: ₹800, Discounted Price: ₹720.00\n",
      "Original Price: ₹900, Discounted Price: ₹810.00\n",
      "Original Price: ₹1000, Discounted Price: ₹900.00\n"
     ]
    }
   ],
   "source": [
    "# Print the final prices\n",
    "for original, final in zip(product_prices, final_prices):\n",
    "    print(f\"Original Price: ₹{original}, Discounted Price: ₹{final:.2f}\")"
   ]
  },
  {
   "cell_type": "code",
   "execution_count": null,
   "id": "5d22235d-de53-4411-b877-fba7b57b6260",
   "metadata": {},
   "outputs": [],
   "source": []
  }
 ],
 "metadata": {
  "kernelspec": {
   "display_name": "Python 3 (ipykernel)",
   "language": "python",
   "name": "python3"
  },
  "language_info": {
   "codemirror_mode": {
    "name": "ipython",
    "version": 3
   },
   "file_extension": ".py",
   "mimetype": "text/x-python",
   "name": "python",
   "nbconvert_exporter": "python",
   "pygments_lexer": "ipython3",
   "version": "3.11.5"
  }
 },
 "nbformat": 4,
 "nbformat_minor": 5
}
