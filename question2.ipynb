{
 "cells": [
  {
   "cell_type": "code",
   "execution_count": 1,
   "id": "50abcc10-3b13-47aa-a8d7-04cbb9f48b37",
   "metadata": {},
   "outputs": [],
   "source": [
    "email_addresses = [\n",
    "    \"prinshi@example.com\",\n",
    "    \"keerti123@domain.org\",\n",
    "    \"ajay123@company.net\",\n",
    "    \"mohanlal@service.co\",\n",
    "    \"jayshreeram@provider.info\",\n",
    "    \"narendramodi@gov.in\"\n",
    "]"
   ]
  },
  {
   "cell_type": "code",
   "execution_count": 9,
   "id": "a79d0593-2ca5-437c-80e8-ff8e8f30828f",
   "metadata": {},
   "outputs": [],
   "source": [
    "# method 1 \n",
    "usernames = [email.split('@')[0] for email in email_addresses]"
   ]
  },
  {
   "cell_type": "code",
   "execution_count": 10,
   "id": "d04d0f45-2791-472a-ba82-b6599326609e",
   "metadata": {},
   "outputs": [
    {
     "data": {
      "text/plain": [
       "['prinshi', 'keerti123', 'ajay123', 'mohanlal', 'jayshreeram', 'narendramodi']"
      ]
     },
     "execution_count": 10,
     "metadata": {},
     "output_type": "execute_result"
    }
   ],
   "source": [
    "# Display the result\n",
    "usernames"
   ]
  },
  {
   "cell_type": "code",
   "execution_count": 5,
   "id": "83ed8064-4717-4f07-9e4b-65882c4f2cb3",
   "metadata": {},
   "outputs": [],
   "source": [
    "# method 2\n",
    "def split_email(email):\n",
    "    username, domain = email.split('@')\n",
    "    return username, domain"
   ]
  },
  {
   "cell_type": "code",
   "execution_count": 6,
   "id": "07ee9628-ae86-4e46-a040-c59fa294f374",
   "metadata": {},
   "outputs": [],
   "source": [
    "results = []"
   ]
  },
  {
   "cell_type": "code",
   "execution_count": 7,
   "id": "f3c48107-8333-4774-93e9-39d29c2520c9",
   "metadata": {},
   "outputs": [],
   "source": [
    "for email in email_addresses:\n",
    "    username, domain = split_email(email)\n",
    "    results.append((username, domain))"
   ]
  },
  {
   "cell_type": "code",
   "execution_count": 8,
   "id": "78ce23d7-e96c-4280-a338-06579ec2b2e9",
   "metadata": {},
   "outputs": [
    {
     "name": "stdout",
     "output_type": "stream",
     "text": [
      "Username: prinshi, Domain: example.com\n",
      "Username: keerti123, Domain: domain.org\n",
      "Username: ajay123, Domain: company.net\n",
      "Username: mohanlal, Domain: service.co\n",
      "Username: jayshreeram, Domain: provider.info\n",
      "Username: narendramodi, Domain: gov.in\n"
     ]
    }
   ],
   "source": [
    "for username, domain in results:\n",
    "    print(f\"Username: {username}, Domain: {domain}\")"
   ]
  },
  {
   "cell_type": "code",
   "execution_count": null,
   "id": "1d34582a-71b6-45f5-b869-56bfd8fe358e",
   "metadata": {},
   "outputs": [],
   "source": []
  }
 ],
 "metadata": {
  "kernelspec": {
   "display_name": "Python 3 (ipykernel)",
   "language": "python",
   "name": "python3"
  },
  "language_info": {
   "codemirror_mode": {
    "name": "ipython",
    "version": 3
   },
   "file_extension": ".py",
   "mimetype": "text/x-python",
   "name": "python",
   "nbconvert_exporter": "python",
   "pygments_lexer": "ipython3",
   "version": "3.11.5"
  }
 },
 "nbformat": 4,
 "nbformat_minor": 5
}
