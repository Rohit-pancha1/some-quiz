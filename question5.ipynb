{
 "cells": [
  {
   "cell_type": "code",
   "execution_count": 5,
   "id": "08e8004d-e208-436a-814d-28939bf55d74",
   "metadata": {},
   "outputs": [],
   "source": [
    "import pandas as pd\n",
    "import numpy as np"
   ]
  },
  {
   "cell_type": "code",
   "execution_count": 6,
   "id": "a54c068a-095c-4e46-b032-9cc244a9f2b4",
   "metadata": {},
   "outputs": [],
   "source": [
    "df = pd.read_csv('price.csv')"
   ]
  },
  {
   "cell_type": "code",
   "execution_count": 7,
   "id": "fee792f3-9917-42df-aeea-652af34c1bd1",
   "metadata": {},
   "outputs": [
    {
     "data": {
      "text/html": [
       "<div>\n",
       "<style scoped>\n",
       "    .dataframe tbody tr th:only-of-type {\n",
       "        vertical-align: middle;\n",
       "    }\n",
       "\n",
       "    .dataframe tbody tr th {\n",
       "        vertical-align: top;\n",
       "    }\n",
       "\n",
       "    .dataframe thead th {\n",
       "        text-align: right;\n",
       "    }\n",
       "</style>\n",
       "<table border=\"1\" class=\"dataframe\">\n",
       "  <thead>\n",
       "    <tr style=\"text-align: right;\">\n",
       "      <th></th>\n",
       "      <th>product</th>\n",
       "      <th>price</th>\n",
       "    </tr>\n",
       "  </thead>\n",
       "  <tbody>\n",
       "    <tr>\n",
       "      <th>0</th>\n",
       "      <td>Apple</td>\n",
       "      <td>$10.25</td>\n",
       "    </tr>\n",
       "    <tr>\n",
       "      <th>1</th>\n",
       "      <td>Banana</td>\n",
       "      <td>$12.25</td>\n",
       "    </tr>\n",
       "    <tr>\n",
       "      <th>2</th>\n",
       "      <td>Apple</td>\n",
       "      <td>$14.25</td>\n",
       "    </tr>\n",
       "    <tr>\n",
       "      <th>3</th>\n",
       "      <td>Banana</td>\n",
       "      <td>$16.25</td>\n",
       "    </tr>\n",
       "    <tr>\n",
       "      <th>4</th>\n",
       "      <td>Apple</td>\n",
       "      <td>$18.25</td>\n",
       "    </tr>\n",
       "    <tr>\n",
       "      <th>5</th>\n",
       "      <td>Banana</td>\n",
       "      <td>NaN</td>\n",
       "    </tr>\n",
       "    <tr>\n",
       "      <th>6</th>\n",
       "      <td>Apple</td>\n",
       "      <td>$22.25</td>\n",
       "    </tr>\n",
       "    <tr>\n",
       "      <th>7</th>\n",
       "      <td>Banana</td>\n",
       "      <td>$24.25</td>\n",
       "    </tr>\n",
       "    <tr>\n",
       "      <th>8</th>\n",
       "      <td>Apple</td>\n",
       "      <td>$26.25</td>\n",
       "    </tr>\n",
       "  </tbody>\n",
       "</table>\n",
       "</div>"
      ],
      "text/plain": [
       "  product     price\n",
       "0   Apple   $10.25 \n",
       "1  Banana   $12.25 \n",
       "2   Apple   $14.25 \n",
       "3  Banana   $16.25 \n",
       "4   Apple   $18.25 \n",
       "5  Banana       NaN\n",
       "6   Apple   $22.25 \n",
       "7  Banana   $24.25 \n",
       "8   Apple   $26.25 "
      ]
     },
     "execution_count": 7,
     "metadata": {},
     "output_type": "execute_result"
    }
   ],
   "source": [
    "df"
   ]
  },
  {
   "cell_type": "code",
   "execution_count": 8,
   "id": "9c3422f4-4732-4866-99f8-92862e09f79d",
   "metadata": {},
   "outputs": [],
   "source": [
    "df = pd.DataFrame(df)"
   ]
  },
  {
   "cell_type": "code",
   "execution_count": 9,
   "id": "352a7c60-69e3-4b37-96ac-42e6154db048",
   "metadata": {},
   "outputs": [
    {
     "name": "stdout",
     "output_type": "stream",
     "text": [
      "Original DataFrame:\n",
      "  product     price\n",
      "0   Apple   $10.25 \n",
      "1  Banana   $12.25 \n",
      "2   Apple   $14.25 \n",
      "3  Banana   $16.25 \n",
      "4   Apple   $18.25 \n",
      "5  Banana       NaN\n",
      "6   Apple   $22.25 \n",
      "7  Banana   $24.25 \n",
      "8   Apple   $26.25 \n"
     ]
    }
   ],
   "source": [
    "print(\"Original DataFrame:\")\n",
    "print(df)"
   ]
  },
  {
   "cell_type": "code",
   "execution_count": 10,
   "id": "38dbd7bd-391c-440c-8c6e-09854f0216bf",
   "metadata": {},
   "outputs": [],
   "source": [
    "df['price'] = df['price'].str.replace('$', '')  # Remove dollar signs if any\n",
    "df['price'] = pd.to_numeric(df['price'], errors='coerce')  # Convert to numeric, setting errors to NaN\n",
    "df['price'].fillna(df['price'].mean(), inplace=True)  # Fill NaN values with the mean"
   ]
  },
  {
   "cell_type": "code",
   "execution_count": 11,
   "id": "db7c7395-cbb1-4bf4-b379-75058b0939d6",
   "metadata": {},
   "outputs": [],
   "source": [
    "df['product'] = df['product'].str.lower()  # Convert all to lowercase"
   ]
  },
  {
   "cell_type": "code",
   "execution_count": 12,
   "id": "59879268-f7b9-4bff-bfcb-f0eb1718f8f5",
   "metadata": {},
   "outputs": [],
   "source": [
    "corrections = {\n",
    "    'bananna': 'banana',\n",
    "    'oranges': 'orange'\n",
    "}"
   ]
  },
  {
   "cell_type": "code",
   "execution_count": 13,
   "id": "995162c1-a3e8-4598-bb34-a0572bb407f7",
   "metadata": {},
   "outputs": [],
   "source": [
    "df['product'] = df['product'].replace(corrections)"
   ]
  },
  {
   "cell_type": "code",
   "execution_count": 14,
   "id": "bd75336b-f182-4bc4-91c0-677c9054d887",
   "metadata": {},
   "outputs": [
    {
     "name": "stdout",
     "output_type": "stream",
     "text": [
      "\n",
      "Cleaned DataFrame:\n",
      "  product  price\n",
      "0   apple  10.25\n",
      "1  banana  12.25\n",
      "2   apple  14.25\n",
      "3  banana  16.25\n",
      "4   apple  18.25\n",
      "5  banana  18.00\n",
      "6   apple  22.25\n",
      "7  banana  24.25\n",
      "8   apple  26.25\n"
     ]
    }
   ],
   "source": [
    "print(\"\\nCleaned DataFrame:\")\n",
    "print(df)"
   ]
  },
  {
   "cell_type": "code",
   "execution_count": null,
   "id": "f2296576-f752-4513-9caa-4f8d3d1c22e1",
   "metadata": {},
   "outputs": [],
   "source": []
  }
 ],
 "metadata": {
  "kernelspec": {
   "display_name": "Python 3 (ipykernel)",
   "language": "python",
   "name": "python3"
  },
  "language_info": {
   "codemirror_mode": {
    "name": "ipython",
    "version": 3
   },
   "file_extension": ".py",
   "mimetype": "text/x-python",
   "name": "python",
   "nbconvert_exporter": "python",
   "pygments_lexer": "ipython3",
   "version": "3.11.5"
  }
 },
 "nbformat": 4,
 "nbformat_minor": 5
}
